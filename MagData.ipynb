{
 "cells": [
  {
   "cell_type": "code",
   "execution_count": 16,
   "metadata": {},
   "outputs": [],
   "source": [
    "%matplotlib notebook\n",
    "%matplotlib inline\n",
    "import numpy as np\n",
    "import pandas as pd\n",
    "import matplotlib.pyplot as plt\n",
    "import seaborn as sns\n",
    "import tqdm.notebook as tqdm"
   ]
  },
  {
   "cell_type": "code",
   "execution_count": 30,
   "metadata": {},
   "outputs": [],
   "source": [
    "def read_logs(file_name: str):\n",
    "    with open(file_name) as file:\n",
    "        data = file.readlines()\n",
    "        \n",
    "    data = map(lambda line: [float(elm) for elm in line.strip().split(\";\")], data)\n",
    "    \n",
    "    return list(data)"
   ]
  },
  {
   "cell_type": "code",
   "execution_count": 31,
   "metadata": {},
   "outputs": [],
   "source": [
    "def plot_data(data: list[tuple[float]], coord: int = 0) -> None:\n",
    "    sns.lineplot(data=[line[coord] for line in data])\n",
    "    plt.show()"
   ]
  },
  {
   "cell_type": "code",
   "execution_count": 53,
   "metadata": {
    "scrolled": false
   },
   "outputs": [],
   "source": [
    "from os import listdir, getcwd\n",
    "from os.path import isfile, join\n",
    "files = [f for f in listdir(getcwd()) if isfile(join(getcwd(), f))]\n",
    "files = [f for f in files if f.endswith(\".csv\") and 'ucu' not in f]\n",
    "\n",
    "def get_mean_dict(coord: int = 0):\n",
    "    mean_values = {}\n",
    "    for file in files:\n",
    "        mean = np.array([elm[coord] for elm in read_logs(file)]).mean()\n",
    "        mean_values[file] = mean\n",
    "    \n",
    "    return mean_values"
   ]
  },
  {
   "cell_type": "code",
   "execution_count": 60,
   "metadata": {},
   "outputs": [
    {
     "data": {
      "text/plain": [
       "[('on_street_2_m_away_from_parking.csv', -4.797000000000001),\n",
       " ('in_between_3_taken2.csv', 4.6644),\n",
       " ('in_between_3_taken.csv', 5.4249),\n",
       " ('close_to_front_2.csv', 6.1478),\n",
       " ('inbetween_3_empty_parking_spots.csv', 6.7402),\n",
       " ('close_to_back.csv', 9.537500000000001),\n",
       " ('empty_with_right_taken.csv', 10.8452),\n",
       " ('close_to_front.csv', 11.058500000000002)]"
      ]
     },
     "execution_count": 60,
     "metadata": {},
     "output_type": "execute_result"
    }
   ],
   "source": [
    "sorted(get_mean_dict(0).items(), key=lambda elm: elm[1])"
   ]
  },
  {
   "cell_type": "markdown",
   "metadata": {},
   "source": [
    "- All the measurements were taken with y towards me and x pointing to left\n",
    "- empty_with_right_taken might have been affected by a metal road sign close to the sensor (0.5-1 meter)\n",
    "- parking place was tree-shaped\n",
    "- temperature outside: 28 degrees\n",
    "- in between 3 taken means that the measurements were conducted between two adjacent spots were the cars are present (at border on white line)"
   ]
  },
  {
   "cell_type": "code",
   "execution_count": 62,
   "metadata": {
    "scrolled": true
   },
   "outputs": [
    {
     "data": {
      "text/plain": [
       "[('on_street_2_m_away_from_parking.csv', -77.10560000000001),\n",
       " ('in_between_3_taken.csv', -36.55495),\n",
       " ('inbetween_3_empty_parking_spots.csv', -35.9424),\n",
       " ('in_between_3_taken2.csv', -31.621800000000004),\n",
       " ('empty_with_right_taken.csv', -30.3856),\n",
       " ('close_to_front_2.csv', -29.859600000000004),\n",
       " ('close_to_front.csv', -26.7495),\n",
       " ('close_to_back.csv', -24.483299999999996)]"
      ]
     },
     "execution_count": 62,
     "metadata": {},
     "output_type": "execute_result"
    }
   ],
   "source": [
    "sorted(get_mean_dict(1).items(), key=lambda elm: elm[1])"
   ]
  },
  {
   "cell_type": "code",
   "execution_count": 61,
   "metadata": {},
   "outputs": [
    {
     "data": {
      "text/plain": [
       "[('inbetween_3_empty_parking_spots.csv', -46.19499999999999),\n",
       " ('on_street_2_m_away_from_parking.csv', -28.6748),\n",
       " ('close_to_front.csv', -26.665800000000004),\n",
       " ('close_to_front_2.csv', -24.933000000000007),\n",
       " ('empty_with_right_taken.csv', -24.794400000000007),\n",
       " ('close_to_back.csv', -19.690700000000003),\n",
       " ('in_between_3_taken.csv', -19.127599999999997),\n",
       " ('in_between_3_taken2.csv', -18.6348)]"
      ]
     },
     "execution_count": 61,
     "metadata": {},
     "output_type": "execute_result"
    }
   ],
   "source": [
    "sorted(get_mean_dict(2).items(), key=lambda elm: elm[1])"
   ]
  },
  {
   "cell_type": "code",
   "execution_count": null,
   "metadata": {},
   "outputs": [],
   "source": []
  }
 ],
 "metadata": {
  "kernelspec": {
   "display_name": "Python 3",
   "language": "python",
   "name": "python3"
  },
  "language_info": {
   "codemirror_mode": {
    "name": "ipython",
    "version": 3
   },
   "file_extension": ".py",
   "mimetype": "text/x-python",
   "name": "python",
   "nbconvert_exporter": "python",
   "pygments_lexer": "ipython3",
   "version": "3.9.0"
  }
 },
 "nbformat": 4,
 "nbformat_minor": 4
}
