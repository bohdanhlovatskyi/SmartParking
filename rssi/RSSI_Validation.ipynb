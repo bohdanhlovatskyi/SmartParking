{
 "cells": [
  {
   "cell_type": "code",
   "execution_count": 4,
   "source": [
    "import math\n",
    "import pandas as pd\n",
    "import numpy as np\n",
    "import matplotlib.pyplot as plt\n",
    "import seaborn as sns\n",
    "from scipy import stats"
   ],
   "outputs": [],
   "metadata": {}
  },
  {
   "cell_type": "markdown",
   "source": [
    "### First of all, we need to get the parameters of the system\n",
    "\n",
    "Speaking more specific, we should determine such factors:\n",
    "    \n",
    "   * RSSI measurement at 1m (TX power, quite often can be found in documentation)\n",
    "        - the measurement should be done for different sensors\n",
    "        - the measurement should be done for several sensors at the same time, to get the picture on how the signals influence each other\n",
    "        - the measurement should be done for different orientation of the laptop (as it is not known where the ble module is located)\n",
    "   \n",
    "Then we can process the received datasets in the following way\n",
    "   * determine the environmental factors:\n",
    "  \n",
    "        - https://hal.archives-ouvertes.fr/hal-01387824/document\n",
    "        \n",
    "        - path loss index is calculated only using RSSI measurements, as it affects both transmitter and receiver (it should be calculated for each specific beacon, as it can be afffected even by laptop's screen)\n",
    "        \n",
    "         - `n = (RSSI(d0) - RSSI(d)) / 10 * log(d/d0)`\n",
    "   * then we should come up with a formula that will be used to determine an estimated distance towards specific beacon (backbone of the whole system). \n",
    "         - The best outcome possible: come up with some dynamic calibration of it, as it is impossible to reach sufficient accuracy with a general-case formula (RSSI is hugely affected by the environmental propagation)"
   ],
   "metadata": {}
  },
  {
   "cell_type": "code",
   "execution_count": 5,
   "source": [
    "def get_path_loss_index(tx_benchmark_power: int, RSSI: int,\n",
    "                        benchmark_distance: float, RSSI_measured_distance: float):\n",
    "    '''\n",
    "    determines n - path loss index which depends on the\n",
    "    propagation environment\n",
    "    '''\n",
    "\n",
    "    return (tx_benchmark_power - RSSI) / (10 * math.log(RSSI_measured_distance/benchmark_distance))"
   ],
   "outputs": [],
   "metadata": {}
  },
  {
   "cell_type": "code",
   "execution_count": 6,
   "source": [
    "def get_distance_no_calibration(RSSI: int, tx_power: int):\n",
    "    return 0.89976 * (RSSI/tx_power)**7.7095 + 0.111 \n",
    "\n",
    "def get_distance(RSSI: int, tx_power: int, n: float): \n",
    "    '''\n",
    "    Uses Log-distance path loss model\n",
    "    '''\n",
    "    \n",
    "    return 10**((tx_power -  RSSI) / (10 * n))"
   ],
   "outputs": [],
   "metadata": {}
  },
  {
   "cell_type": "code",
   "execution_count": 35,
   "source": [
    "def gets_stats(path_to_file: str, device: str):\n",
    "    df = pd.read_csv(path_to_file, sep=\";\")\n",
    "    print(df.head())\n",
    "    \n",
    "    sens_rssi = df[df[\"DEVICE\"] == device][\"RSSI\"].values.tolist()\n",
    "    sns.displot(sens_rssi)\n",
    "    plt.show()\n",
    "    \n",
    "    MEAN_POWER = np.array(sens_rssi).mean()\n",
    "    MODE_POWER = stats.mode(sens_rssi)[0][0]\n",
    "    print(f\"{MEAN_POWER=}\")\n",
    "    print(f\"{MODE_POWER=}\")\n",
    "    \n",
    "    return MEAN_POWER\n",
    "    \n",
    "tx_benchmark_power = gets_stats(\"one_meter.csv\", \"SmartParking1\")"
   ],
   "outputs": [
    {
     "output_type": "stream",
     "name": "stdout",
     "text": [
      "       TIME         DEVICE  RSSI\n",
      "0  12:50:18  SmartParking1   -59\n",
      "1  12:50:18  SmartParking1   -60\n",
      "2  12:50:23  SmartParking1   -60\n",
      "3  12:50:23  SmartParking1   -60\n",
      "4  12:50:27  SmartParking1   -61\n"
     ]
    },
    {
     "output_type": "display_data",
     "data": {
      "text/plain": [
       "<Figure size 360x360 with 1 Axes>"
      ],
      "image/png": "[encoded data removed]"
     },
     "metadata": {
      "needs_background": "light"
     }
    },
    {
     "output_type": "stream",
     "name": "stdout",
     "text": [
      "MEAN_POWER=-59.721518987341774\n",
      "MODE_POWER=-57\n"
     ]
    }
   ],
   "metadata": {}
  },
  {
   "cell_type": "markdown",
   "source": [
    "One meter to the BLE beacon. Screen is oriented in the opposite direction to the BLE beacon (this is important, as one can see later on)"
   ],
   "metadata": {}
  },
  {
   "cell_type": "code",
   "execution_count": 8,
   "source": [
    "two_meters_RSSI = gets_stats(\"two_meters.csv\", \"SmartParking1\")"
   ],
   "outputs": [
    {
     "output_type": "stream",
     "name": "stdout",
     "text": [
      "       TIME         DEVICE  RSSI\n",
      "0  13:00:23  SmartParking1   -59\n",
      "1  13:00:23  SmartParking1   -59\n",
      "2  13:00:26  SmartParking1   -60\n",
      "3  13:00:26  SmartParking1   -60\n",
      "4  13:00:28  SmartParking1   -61\n"
     ]
    },
    {
     "output_type": "display_data",
     "data": {
      "text/plain": [
       "<Figure size 360x360 with 1 Axes>"
      ],
      "image/png": "[encoded data removed]"
     },
     "metadata": {
      "needs_background": "light"
     }
    },
    {
     "output_type": "stream",
     "name": "stdout",
     "text": [
      "MEAN_POWER=-60.753246753246756\n",
      "MODE_POWER=-61\n"
     ]
    }
   ],
   "metadata": {}
  },
  {
   "cell_type": "markdown",
   "source": [
    "The same setup, but the distance is two meters, in order to determine the PATH_LOSS_INDEX."
   ],
   "metadata": {}
  },
  {
   "cell_type": "code",
   "execution_count": 9,
   "source": [
    "PATH_LOSS_INDEX = get_path_loss_index(tx_benchmark_power, two_meters_RSSI, 1, 2)"
   ],
   "outputs": [],
   "metadata": {}
  },
  {
   "cell_type": "code",
   "execution_count": 10,
   "source": [
    "PATH_LOSS_INDEX = round(PATH_LOSS_INDEX, 0) # what if make it integer number"
   ],
   "outputs": [],
   "metadata": {}
  },
  {
   "cell_type": "code",
   "execution_count": 11,
   "source": [
    "get_distance(two_meters_RSSI, tx_benchmark_power, 1)"
   ],
   "outputs": [
    {
     "output_type": "execute_result",
     "data": {
      "text/plain": [
       "2.51188643150958"
      ]
     },
     "metadata": {},
     "execution_count": 11
    }
   ],
   "metadata": {}
  },
  {
   "cell_type": "code",
   "execution_count": 12,
   "source": [
    "one_eighty = gets_stats(\"one_eighty.csv\", \"SmartParking1\")"
   ],
   "outputs": [
    {
     "output_type": "stream",
     "name": "stdout",
     "text": [
      "       TIME         DEVICE  RSSI\n",
      "0  13:47:00  SmartParking1   -67\n",
      "1  13:47:00  SmartParking1   -67\n",
      "2  13:47:05  SmartParking1   -66\n",
      "3  13:47:05  SmartParking1   -67\n",
      "4  13:47:06  SmartParking1   -65\n"
     ]
    },
    {
     "output_type": "display_data",
     "data": {
      "text/plain": [
       "<Figure size 360x360 with 1 Axes>"
      ],
      "image/png": "[encoded data removed]"
     },
     "metadata": {
      "needs_background": "light"
     }
    },
    {
     "output_type": "stream",
     "name": "stdout",
     "text": [
      "MEAN_POWER=-70.2542372881356\n",
      "MODE_POWER=-66\n"
     ]
    }
   ],
   "metadata": {}
  },
  {
   "cell_type": "code",
   "execution_count": 13,
   "source": [
    "get_distance(one_eighty, tx_benchmark_power, get_path_loss_index(tx_benchmark_power, one_eighty, 1, 1.8))"
   ],
   "outputs": [
    {
     "output_type": "execute_result",
     "data": {
      "text/plain": [
       "3.870674620778843"
      ]
     },
     "metadata": {},
     "execution_count": 13
    }
   ],
   "metadata": {}
  },
  {
   "cell_type": "markdown",
   "source": [
    "As one can see, results are too far from what we want to see there, let's try different kind of setup.\n",
    "Moreover, in the case of the previous distance estimation, the screen was slighlty rotated (there was a gap, where the direct signals could have reached). Let's try to conduct whole thing with the screen rotated towards the sensor"
   ],
   "metadata": {}
  },
  {
   "cell_type": "code",
   "execution_count": 14,
   "source": [
    "one = gets_stats(\"one_meter_to_screen.csv\", \"SmartParking1\")"
   ],
   "outputs": [
    {
     "output_type": "stream",
     "name": "stdout",
     "text": [
      "       TIME         DEVICE  RSSI\n",
      "0  13:59:28  SmartParking1   -59\n",
      "1  13:59:28  SmartParking1   -60\n",
      "2  13:59:33  SmartParking1   -63\n",
      "3  13:59:33  SmartParking1   -63\n",
      "4  13:59:36  SmartParking1   -64\n"
     ]
    },
    {
     "output_type": "display_data",
     "data": {
      "text/plain": [
       "<Figure size 360x360 with 1 Axes>"
      ],
      "image/png": "[encoded data removed]"
     },
     "metadata": {
      "needs_background": "light"
     }
    },
    {
     "output_type": "stream",
     "name": "stdout",
     "text": [
      "MEAN_POWER=-64.65671641791045\n",
      "MODE_POWER=-64\n"
     ]
    }
   ],
   "metadata": {}
  },
  {
   "cell_type": "code",
   "execution_count": 15,
   "source": [
    "two = gets_stats(\"screen_to_sensor.csv\", \"SmartParking1\")"
   ],
   "outputs": [
    {
     "output_type": "stream",
     "name": "stdout",
     "text": [
      "       TIME         DEVICE  RSSI\n",
      "0  13:54:29  SmartParking1   -64\n",
      "1  13:54:29  SmartParking1   -65\n",
      "2  13:54:32  SmartParking1   -70\n",
      "3  13:54:32  SmartParking1   -69\n",
      "4  13:54:34  SmartParking1   -77\n"
     ]
    },
    {
     "output_type": "display_data",
     "data": {
      "text/plain": [
       "<Figure size 360x360 with 1 Axes>"
      ],
      "image/png": "[encoded data removed]"
     },
     "metadata": {
      "needs_background": "light"
     }
    },
    {
     "output_type": "stream",
     "name": "stdout",
     "text": [
      "MEAN_POWER=-69.41044776119404\n",
      "MODE_POWER=-70\n"
     ]
    }
   ],
   "metadata": {}
  },
  {
   "cell_type": "code",
   "execution_count": 16,
   "source": [
    "PATH_LOSS = get_path_loss_index(one, two, 1, 2)\n",
    "PATH_LOSS"
   ],
   "outputs": [
    {
     "output_type": "execute_result",
     "data": {
      "text/plain": [
       "0.8656170245333781"
      ]
     },
     "metadata": {},
     "execution_count": 16
    }
   ],
   "metadata": {}
  },
  {
   "cell_type": "code",
   "execution_count": 17,
   "source": [
    "get_distance(one_eighty, one, PATH_LOSS)"
   ],
   "outputs": [
    {
     "output_type": "execute_result",
     "data": {
      "text/plain": [
       "1.7023508040251"
      ]
     },
     "metadata": {},
     "execution_count": 17
    }
   ],
   "metadata": {}
  },
  {
   "cell_type": "code",
   "execution_count": 18,
   "source": [
    "get_distance_no_calibration(one_eighty, one) # what if to use the\n",
    "# general case formula, taken from Android Beacon library"
   ],
   "outputs": [
    {
     "output_type": "execute_result",
     "data": {
      "text/plain": [
       "1.2516598201812543"
      ]
     },
     "metadata": {},
     "execution_count": 18
    }
   ],
   "metadata": {
    "scrolled": true
   }
  },
  {
   "cell_type": "markdown",
   "source": [
    "## different sensor"
   ],
   "metadata": {}
  },
  {
   "cell_type": "code",
   "execution_count": 21,
   "source": [
    "gets_stats(\"dif_one.csv\", \"SmartParking2\")"
   ],
   "outputs": [
    {
     "output_type": "stream",
     "name": "stdout",
     "text": [
      "       TIME         DEVICE  RSSI\n",
      "0  06:21:30  SmartParking2   -67\n",
      "1  06:21:30  SmartParking2   -66\n",
      "2  06:21:32  SmartParking2   -64\n",
      "3  06:21:32  SmartParking2   -64\n",
      "4  06:21:35  SmartParking2   -64\n"
     ]
    },
    {
     "output_type": "display_data",
     "data": {
      "text/plain": [
       "<Figure size 360x360 with 1 Axes>"
      ],
      "image/png": "[encoded data removed]"
     },
     "metadata": {
      "needs_background": "light"
     }
    },
    {
     "output_type": "stream",
     "name": "stdout",
     "text": [
      "MEAN_POWER=-64.39772727272727\n",
      "MODE_POWER=-65\n"
     ]
    },
    {
     "output_type": "execute_result",
     "data": {
      "text/plain": [
       "-65"
      ]
     },
     "metadata": {},
     "execution_count": 21
    }
   ],
   "metadata": {}
  },
  {
   "cell_type": "markdown",
   "source": [
    "- we can see that both devices have the same RSSI at the distance of one meter."
   ],
   "metadata": {}
  }
 ],
 "metadata": {
  "kernelspec": {
   "display_name": "Python 3",
   "language": "python",
   "name": "python3"
  },
  "language_info": {
   "codemirror_mode": {
    "name": "ipython",
    "version": 3
   },
   "file_extension": ".py",
   "mimetype": "text/x-python",
   "name": "python",
   "nbconvert_exporter": "python",
   "pygments_lexer": "ipython3",
   "version": "3.9.0"
  }
 },
 "nbformat": 4,
 "nbformat_minor": 4
}