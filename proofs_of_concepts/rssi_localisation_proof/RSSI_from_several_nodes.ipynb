{
 "cells": [
  {
   "cell_type": "code",
   "execution_count": 8,
   "metadata": {},
   "outputs": [
    {
     "data": {
      "text/plain": [
       "['parking_other_lot_closer_to_the_source.csv',\n",
       " 'parking.csv',\n",
       " 'four_sensors.csv',\n",
       " 'parking_other_lot.csv',\n",
       " 'steady_bottom.csv',\n",
       " 'third_one.csv',\n",
       " 'first_one.csv',\n",
       " 'second_one.csv']"
      ]
     },
     "execution_count": 8,
     "metadata": {},
     "output_type": "execute_result"
    }
   ],
   "source": [
    "import os\n",
    "[file for file in os.listdir() if file.endswith(\".csv\")]"
   ]
  },
  {
   "cell_type": "code",
   "execution_count": 18,
   "metadata": {},
   "outputs": [],
   "source": [
    "import pandas as pd\n",
    "import numpy as np\n",
    "import matplotlib.pyplot as plt"
   ]
  },
  {
   "cell_type": "code",
   "execution_count": 12,
   "metadata": {},
   "outputs": [
    {
     "name": "stdout",
     "output_type": "stream",
     "text": [
      "third_one.csv        TIME         DEVICE  RSSI\n",
      "0  14:26:35  SmartParking2   -66\n",
      "1  14:26:38  SmartParking2   -65\n",
      "first_one.csv        TIME         DEVICE  RSSI\n",
      "0  14:25:42  SmartParking4   -80\n",
      "1  14:25:43  SmartParking4   -72\n",
      "2  14:25:44  SmartParking4   -69\n",
      "second_one.csv        TIME         DEVICE  RSSI\n",
      "0  14:26:11  SmartParking3   -58\n",
      "1  14:26:12  SmartParking3   -57\n",
      "2  14:26:13  SmartParking3   -60\n"
     ]
    }
   ],
   "source": [
    "for file in os.listdir():\n",
    "    if file.endswith(\"one.csv\"):\n",
    "        df = pd.read_csv(file, sep=';')\n",
    "        print(file, df.head())"
   ]
  },
  {
   "cell_type": "code",
   "execution_count": 13,
   "metadata": {},
   "outputs": [
    {
     "data": {
      "text/plain": [
       "['parking_other_lot_closer_to_the_source.csv',\n",
       " 'parking.csv',\n",
       " 'four_sensors.csv',\n",
       " 'parking_other_lot.csv',\n",
       " 'steady_bottom.csv']"
      ]
     },
     "execution_count": 13,
     "metadata": {},
     "output_type": "execute_result"
    }
   ],
   "source": [
    "[file for file in os.listdir() if file.endswith(\".csv\") and not file.endswith(\"one.csv\")]"
   ]
  },
  {
   "cell_type": "code",
   "execution_count": 114,
   "metadata": {
    "scrolled": false
   },
   "outputs": [],
   "source": [
    "def plot_data(path: str, plot_mean: bool = True, plot_data: bool = False, sensors: set = None):\n",
    "    if sensors is None:\n",
    "        sensors = {f'SmartParking{i}' for i in range(1, 5)}\n",
    "\n",
    "    df = pd.read_csv(path, sep=';')\n",
    "    for i in range(1, 5):\n",
    "        df[f\"SmartParking{i}\"] = df[df[\"DEVICE\"] == \\\n",
    "                                    f\"SmartParking{i}\"][\"RSSI\"].apply(lambda x: abs(x))\n",
    "    # print(df.head())\n",
    "\n",
    "    colors = ['r', 'g', 'b', 'y']\n",
    "    i = 0\n",
    "    for column in df.columns:\n",
    "        if not column.startswith(\"SmartParking\") or str(column) not in sensors:\n",
    "            continue\n",
    "        \n",
    "        data = df[column].dropna().apply(lambda x: abs(x))\n",
    "        data = data.apply(lambda x: -1 * x).values.tolist()\n",
    "        if plot_data:\n",
    "            plt.plot(data, color = colors[i], label=str(column))\n",
    "\n",
    "        A = np.vstack([np.array(range(len(data))), np.ones(len(data))]).T\n",
    "        m, c = np.linalg.lstsq(A, data, rcond=None)[0]\n",
    "        \n",
    "        if plot_mean:\n",
    "            plt.axhline(y=c, color = colors[i], linestyle='--', label=str(column))\n",
    "        i += 1\n",
    "    plt.legend()"
   ]
  },
  {
   "cell_type": "markdown",
   "metadata": {},
   "source": [
    "So, the parking loooked like:\n",
    "```\n",
    "- (SP1)           - (SP2)           - (SP4)\n",
    "            \n",
    "                       - (SP3)\n",
    "                  PC\n",
    "```"
   ]
  },
  {
   "cell_type": "code",
   "execution_count": 120,
   "metadata": {},
   "outputs": [
    {
     "data": {
      "image/png": "[encoded data removed]",
      "text/plain": [
       "<Figure size 432x288 with 1 Axes>"
      ]
     },
     "metadata": {
      "needs_background": "light"
     },
     "output_type": "display_data"
    }
   ],
   "source": [
    "plot_data(\"parking.csv\", True, False)"
   ]
  },
  {
   "cell_type": "markdown",
   "metadata": {},
   "source": [
    "Then the sensors were lokated in such way:\n",
    "So, the parking loooked like:\n",
    "```\n",
    "- (SP1)           - (SP2)           - (SP4)\n",
    "            \n",
    "                      \n",
    "                                    \n",
    "                                    PC\n",
    "               \n",
    "        - (SP3)\n",
    "```"
   ]
  },
  {
   "cell_type": "code",
   "execution_count": 121,
   "metadata": {},
   "outputs": [
    {
     "data": {
      "image/png": "[encoded data removed]",
      "text/plain": [
       "<Figure size 432x288 with 1 Axes>"
      ]
     },
     "metadata": {
      "needs_background": "light"
     },
     "output_type": "display_data"
    }
   ],
   "source": [
    "plot_data(\"parking_other_lot.csv\", True, False)"
   ]
  },
  {
   "cell_type": "code",
   "execution_count": 119,
   "metadata": {},
   "outputs": [
    {
     "data": {
      "image/png": "[encoded data removed]",
      "text/plain": [
       "<Figure size 432x288 with 1 Axes>"
      ]
     },
     "metadata": {
      "needs_background": "light"
     },
     "output_type": "display_data"
    }
   ],
   "source": [
    "plot_data(\"parking_other_lot_closer_to_the_source.csv\", True, False)"
   ]
  },
  {
   "cell_type": "code",
   "execution_count": null,
   "metadata": {},
   "outputs": [],
   "source": []
  }
 ],
 "metadata": {
  "kernelspec": {
   "display_name": "Python 3",
   "language": "python",
   "name": "python3"
  },
  "language_info": {
   "codemirror_mode": {
    "name": "ipython",
    "version": 3
   },
   "file_extension": ".py",
   "mimetype": "text/x-python",
   "name": "python",
   "nbconvert_exporter": "python",
   "pygments_lexer": "ipython3",
   "version": "3.8.8"
  }
 },
 "nbformat": 4,
 "nbformat_minor": 4
}
